{
 "cells": [
  {
   "cell_type": "code",
   "id": "initial_id",
   "metadata": {
    "collapsed": true,
    "ExecuteTime": {
     "end_time": "2024-05-13T14:12:02.941503Z",
     "start_time": "2024-05-13T14:11:57.953528Z"
    }
   },
   "source": [
    "from langchain_community.document_loaders import PyPDFLoader\n",
    "loader = PyPDFLoader(\"E:/KrishM/ML/EBooks/DeepLearning/deeplearningwithpython_francoischollet.pdf\")\n",
    "docs = loader.load()\n",
    "docs"
   ],
   "execution_count": 4,
   "outputs": []
  },
  {
   "metadata": {
    "ExecuteTime": {
     "end_time": "2024-05-13T14:12:09.491202Z",
     "start_time": "2024-05-13T14:12:09.415268Z"
    }
   },
   "cell_type": "code",
   "source": [
    "from langchain.text_splitter import RecursiveCharacterTextSplitter\n",
    "\n",
    "text_splitter = RecursiveCharacterTextSplitter(chunk_size=1000, chunk_overlap=200)\n",
    "documents=text_splitter.split_documents(docs)"
   ],
   "id": "584713aca863257",
   "execution_count": 5,
   "outputs": []
  },
  {
   "metadata": {
    "ExecuteTime": {
     "end_time": "2024-05-13T14:12:24.571284Z",
     "start_time": "2024-05-13T14:12:13.376413Z"
    }
   },
   "cell_type": "code",
   "source": [
    "from langchain_openai import OpenAIEmbeddings\n",
    "from langchain_community.vectorstores import FAISS\n",
    "\n",
    "db = FAISS.from_documents(documents=documents, embedding=OpenAIEmbeddings())"
   ],
   "id": "84b093dad7649349",
   "execution_count": 6,
   "outputs": []
  },
  {
   "metadata": {
    "ExecuteTime": {
     "end_time": "2024-05-13T14:12:25.745365Z",
     "start_time": "2024-05-13T14:12:25.732193Z"
    }
   },
   "cell_type": "code",
   "source": "db",
   "id": "79009b5adf213d43",
   "execution_count": 7,
   "outputs": []
  },
  {
   "metadata": {
    "ExecuteTime": {
     "end_time": "2024-05-13T14:12:27.722971Z",
     "start_time": "2024-05-13T14:12:27.556672Z"
    }
   },
   "cell_type": "code",
   "source": [
    "from langchain_community.llms import Ollama\n",
    "llm=Ollama(model=\"llama2\")\n",
    "llm"
   ],
   "id": "4930babc46e1d564",
   "execution_count": 8,
   "outputs": []
  },
  {
   "metadata": {
    "ExecuteTime": {
     "end_time": "2024-05-13T14:33:27.966896Z",
     "start_time": "2024-05-13T14:33:27.072310Z"
    }
   },
   "cell_type": "code",
   "source": [
    "from langchain_openai import OpenAI\n",
    "llm2 = OpenAI(model=\"gpt-3.5-turbo-instruct\") "
   ],
   "id": "e96ac14b1bbb4952",
   "execution_count": 21,
   "outputs": []
  },
  {
   "metadata": {
    "ExecuteTime": {
     "end_time": "2024-05-13T14:33:33.041347Z",
     "start_time": "2024-05-13T14:33:33.033668Z"
    }
   },
   "cell_type": "code",
   "source": [
    "from langchain_core.prompts import ChatPromptTemplate\n",
    "prompt=ChatPromptTemplate.from_template(\"\"\"Answer the following question\n",
    "based only on the provided context. Think step by step before providing a detailed\n",
    "answer.\n",
    "<context>\n",
    "{context}\n",
    "</context>\n",
    "Question: {input}\"\"\")"
   ],
   "id": "32849c8e6609c166",
   "execution_count": 22,
   "outputs": []
  },
  {
   "metadata": {
    "ExecuteTime": {
     "end_time": "2024-05-13T14:12:32.619866Z",
     "start_time": "2024-05-13T14:12:32.546317Z"
    }
   },
   "cell_type": "code",
   "source": [
    "from langchain.chains.combine_documents import create_stuff_documents_chain\n",
    "\n",
    "document_chain=create_stuff_documents_chain(llm, prompt)"
   ],
   "id": "96b9844e90d89a1f",
   "execution_count": 10,
   "outputs": []
  },
  {
   "metadata": {
    "ExecuteTime": {
     "end_time": "2024-05-13T14:33:47.053617Z",
     "start_time": "2024-05-13T14:33:47.037259Z"
    }
   },
   "cell_type": "code",
   "source": [
    "from langchain.chains.combine_documents import create_stuff_documents_chain\n",
    "\n",
    "document_chain=create_stuff_documents_chain(llm2, prompt)"
   ],
   "id": "c0c1289487de3871",
   "execution_count": 23,
   "outputs": []
  },
  {
   "metadata": {
    "ExecuteTime": {
     "end_time": "2024-05-13T14:33:50.115149Z",
     "start_time": "2024-05-13T14:33:50.093174Z"
    }
   },
   "cell_type": "code",
   "source": "retriever = db.as_retriever()",
   "id": "2e70969427eb1677",
   "execution_count": 24,
   "outputs": []
  },
  {
   "metadata": {
    "ExecuteTime": {
     "end_time": "2024-05-13T14:33:51.348958Z",
     "start_time": "2024-05-13T14:33:51.331122Z"
    }
   },
   "cell_type": "code",
   "source": "retriever",
   "id": "a85091be043720a",
   "execution_count": 25,
   "outputs": []
  },
  {
   "metadata": {
    "ExecuteTime": {
     "end_time": "2024-05-13T14:33:56.426124Z",
     "start_time": "2024-05-13T14:33:56.420235Z"
    }
   },
   "cell_type": "code",
   "source": [
    "from langchain.chains import create_retrieval_chain\n",
    "retrieval_chain=create_retrieval_chain(retriever, document_chain)"
   ],
   "id": "88367a448fe4b9ec",
   "execution_count": 26,
   "outputs": []
  },
  {
   "metadata": {
    "ExecuteTime": {
     "end_time": "2024-05-13T14:41:35.076940Z",
     "start_time": "2024-05-13T14:41:31.323744Z"
    }
   },
   "cell_type": "code",
   "source": [
    "# response = retrieval_chain.invoke({\"input\": \"What is a Sigmoid Function?\"})\n",
    "response = retrieval_chain.invoke({\"input\": \"What is back propagation?\"})"
   ],
   "id": "b3ce30c174fc52e7",
   "execution_count": 30,
   "outputs": []
  },
  {
   "metadata": {
    "ExecuteTime": {
     "end_time": "2024-05-13T14:41:36.332081Z",
     "start_time": "2024-05-13T14:41:36.320547Z"
    }
   },
   "cell_type": "code",
   "source": "response[\"answer\"]",
   "id": "e5656bb401e0ca57",
   "execution_count": 31,
   "outputs": []
  },
  {
   "metadata": {},
   "cell_type": "code",
   "execution_count": null,
   "source": "",
   "id": "276fb1e2db78f41e",
   "outputs": []
  },
  {
   "metadata": {},
   "cell_type": "code",
   "execution_count": null,
   "source": "",
   "id": "658e2420535a6bae",
   "outputs": []
  },
  {
   "metadata": {},
   "cell_type": "code",
   "execution_count": null,
   "source": "",
   "id": "357c9366d5476fed",
   "outputs": []
  },
  {
   "metadata": {},
   "cell_type": "code",
   "execution_count": null,
   "source": "",
   "id": "d6e20db0a76e0492",
   "outputs": []
  }
 ],
 "metadata": {
  "kernelspec": {
   "display_name": "Python 3",
   "language": "python",
   "name": "python3"
  },
  "language_info": {
   "codemirror_mode": {
    "name": "ipython",
    "version": 2
   },
   "file_extension": ".py",
   "mimetype": "text/x-python",
   "name": "python",
   "nbconvert_exporter": "python",
   "pygments_lexer": "ipython2",
   "version": "2.7.6"
  }
 },
 "nbformat": 4,
 "nbformat_minor": 5
}
