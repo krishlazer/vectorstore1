{
 "cells": [
  {
   "cell_type": "code",
   "id": "initial_id",
   "metadata": {
    "collapsed": true,
    "ExecuteTime": {
     "end_time": "2024-05-13T09:27:48.684512Z",
     "start_time": "2024-05-13T09:27:48.543408Z"
    }
   },
   "source": [
    "from langchain_community.document_loaders import TextLoader\n",
    "loader = TextLoader(\"E:/KrishM/GenerativeAI/langchain/indianconstitution.txt\", encoding=\"utf-8\")\n",
    "text_documents = loader.load()\n",
    "text_documents"
   ],
   "execution_count": 3,
   "outputs": []
  },
  {
   "metadata": {
    "ExecuteTime": {
     "end_time": "2024-05-13T09:31:33.180040Z",
     "start_time": "2024-05-13T09:31:33.160097Z"
    }
   },
   "cell_type": "code",
   "source": "import os",
   "id": "dc0500feba0f4c4b",
   "execution_count": 4,
   "outputs": []
  },
  {
   "metadata": {
    "ExecuteTime": {
     "end_time": "2024-05-13T09:33:48.265709Z",
     "start_time": "2024-05-13T09:33:48.258343Z"
    }
   },
   "cell_type": "code",
   "source": "os.environ[\"OPENAI_API_KEY\"] = os.getenv(\"OPENAI_API_KEY\")",
   "id": "e4226aa6ea1bf6b3",
   "execution_count": 6,
   "outputs": []
  },
  {
   "metadata": {
    "ExecuteTime": {
     "end_time": "2024-05-13T10:02:10.768663Z",
     "start_time": "2024-05-13T10:02:10.759939Z"
    }
   },
   "cell_type": "code",
   "source": [
    "#web-base loader\n",
    "from langchain_community.document_loaders import WebBaseLoader\n",
    "import bs4"
   ],
   "id": "ed620d56e8780d8b",
   "execution_count": 9,
   "outputs": []
  },
  {
   "metadata": {
    "ExecuteTime": {
     "end_time": "2024-05-13T10:08:40.578921Z",
     "start_time": "2024-05-13T10:08:39.566026Z"
    }
   },
   "cell_type": "code",
   "source": [
    "loader = WebBaseLoader(web_paths=(\"https://lilianweng.github.io/posts/2023-06-23-agent/\",), bs_kwargs=dict(parse_only=bs4.SoupStrainer(\n",
    "    class_=(\"post-title\", \"post-content\", \"post-header\")\n",
    ")))\n",
    "text_documents = loader.load()"
   ],
   "id": "701b8824a7c6df0",
   "execution_count": 13,
   "outputs": []
  },
  {
   "metadata": {
    "ExecuteTime": {
     "end_time": "2024-05-13T10:08:42.312763Z",
     "start_time": "2024-05-13T10:08:42.290086Z"
    }
   },
   "cell_type": "code",
   "source": "text_documents",
   "id": "2c5d4703a61cb6ca",
   "execution_count": 14,
   "outputs": []
  },
  {
   "metadata": {
    "ExecuteTime": {
     "end_time": "2024-05-13T10:21:39.627344Z",
     "start_time": "2024-05-13T10:21:39.618241Z"
    }
   },
   "cell_type": "code",
   "source": [
    "from langchain_community.document_loaders import PyPDFLoader\n",
    "loader=PyPDFLoader(\"E:/KrishM/ML/EBooks/DeepLearning/deeplearningwithpython_francoischollet.pdf\")"
   ],
   "id": "b6dc173913cf3bd4",
   "execution_count": 19,
   "outputs": []
  },
  {
   "metadata": {
    "ExecuteTime": {
     "end_time": "2024-05-13T10:30:15.455465Z",
     "start_time": "2024-05-13T10:30:10.915077Z"
    }
   },
   "cell_type": "code",
   "source": "docs=loader.load()",
   "id": "c542c64d5c818f07",
   "execution_count": 23,
   "outputs": []
  },
  {
   "metadata": {
    "ExecuteTime": {
     "end_time": "2024-05-13T10:30:23.315173Z",
     "start_time": "2024-05-13T10:30:23.234415Z"
    }
   },
   "cell_type": "code",
   "source": "docs",
   "id": "5f05c078a65cb3d3",
   "execution_count": 24,
   "outputs": []
  },
  {
   "metadata": {
    "ExecuteTime": {
     "end_time": "2024-05-13T10:31:08.760681Z",
     "start_time": "2024-05-13T10:31:08.305413Z"
    }
   },
   "cell_type": "code",
   "source": [
    "from langchain.text_splitter import RecursiveCharacterTextSplitter\n",
    "text_splitter = RecursiveCharacterTextSplitter(chunk_size=1000, chunk_overlap=200)\n",
    "documents = text_splitter.split_documents(docs)"
   ],
   "id": "95681f62d7a0b062",
   "execution_count": 25,
   "outputs": []
  },
  {
   "metadata": {
    "ExecuteTime": {
     "end_time": "2024-05-13T10:31:32.845490Z",
     "start_time": "2024-05-13T10:31:32.839121Z"
    }
   },
   "cell_type": "code",
   "source": "documents[:5]",
   "id": "f2d752c691770327",
   "execution_count": 26,
   "outputs": []
  },
  {
   "metadata": {
    "ExecuteTime": {
     "end_time": "2024-05-13T10:32:35.031920Z",
     "start_time": "2024-05-13T10:32:34.974686Z"
    }
   },
   "cell_type": "code",
   "source": "documents",
   "id": "5b4d765b6771ca9d",
   "execution_count": 27,
   "outputs": []
  },
  {
   "metadata": {
    "ExecuteTime": {
     "end_time": "2024-05-13T10:55:07.676256Z",
     "start_time": "2024-05-13T10:53:32.301255Z"
    }
   },
   "cell_type": "code",
   "source": [
    "#Embedding\n",
    "from langchain_openai import OpenAIEmbeddings\n",
    "from langchain_community.vectorstores import Chroma\n",
    "db = Chroma.from_documents(documents=documents, embedding=OpenAIEmbeddings())"
   ],
   "id": "7cb71ff18ce3826f",
   "execution_count": 30,
   "outputs": []
  },
  {
   "metadata": {
    "ExecuteTime": {
     "end_time": "2024-05-13T11:06:52.609317Z",
     "start_time": "2024-05-13T11:06:52.241722Z"
    }
   },
   "cell_type": "code",
   "source": [
    "query = \"What is Adding weight regularization?\"\n",
    "results = db.similarity_search(query)"
   ],
   "id": "c66d1f5d5ee0f0ae",
   "execution_count": 40,
   "outputs": []
  },
  {
   "metadata": {},
   "cell_type": "code",
   "source": "results",
   "id": "7d6c5388a23297e0",
   "execution_count": 41,
   "outputs": []
  },
  {
   "metadata": {
    "ExecuteTime": {
     "end_time": "2024-05-13T11:03:58.376687Z",
     "start_time": "2024-05-13T11:03:58.368745Z"
    }
   },
   "cell_type": "code",
   "source": "results[0].page_content",
   "id": "e4fa62d812718e0c",
   "execution_count": 39,
   "outputs": []
  },
  {
   "metadata": {
    "ExecuteTime": {
     "end_time": "2024-05-13T11:09:36.572267Z",
     "start_time": "2024-05-13T11:09:36.353015Z"
    }
   },
   "cell_type": "code",
   "source": [
    "#FAISS\n",
    "from langchain_community.vectorstores import FAISS"
   ],
   "id": "77941e6e54afe8e3",
   "execution_count": 42,
   "outputs": []
  },
  {
   "metadata": {
    "ExecuteTime": {
     "end_time": "2024-05-13T11:12:16.029801Z",
     "start_time": "2024-05-13T11:12:00.735568Z"
    }
   },
   "cell_type": "code",
   "source": "db2 = FAISS.from_documents(documents=documents, embedding=OpenAIEmbeddings())",
   "id": "4bc83a0936411fe8",
   "execution_count": 44,
   "outputs": []
  },
  {
   "metadata": {
    "ExecuteTime": {
     "end_time": "2024-05-13T11:13:35.301979Z",
     "start_time": "2024-05-13T11:13:34.835499Z"
    }
   },
   "cell_type": "code",
   "source": [
    "query = \"What is Adding weight regularization?\"\n",
    "results2 = db2.similarity_search(query)"
   ],
   "id": "159db8b2ef809eeb",
   "execution_count": 47,
   "outputs": []
  },
  {
   "metadata": {
    "ExecuteTime": {
     "end_time": "2024-05-13T11:13:39.375415Z",
     "start_time": "2024-05-13T11:13:39.361663Z"
    }
   },
   "cell_type": "code",
   "source": "results2",
   "id": "1d914179414d5ec7",
   "execution_count": 48,
   "outputs": []
  },
  {
   "metadata": {},
   "cell_type": "code",
   "execution_count": null,
   "source": "    ",
   "id": "e4be6cc41bc54535",
   "outputs": []
  },
  {
   "metadata": {},
   "cell_type": "code",
   "execution_count": null,
   "source": "",
   "id": "819aca85fa1fbbde",
   "outputs": []
  },
  {
   "metadata": {},
   "cell_type": "code",
   "execution_count": null,
   "source": "",
   "id": "e22795c5f9831930",
   "outputs": []
  },
  {
   "metadata": {},
   "cell_type": "code",
   "execution_count": null,
   "source": "",
   "id": "44fd661d7b80be6b",
   "outputs": []
  },
  {
   "metadata": {},
   "cell_type": "code",
   "execution_count": null,
   "source": "",
   "id": "f45d31e8c3990ccf",
   "outputs": []
  },
  {
   "metadata": {},
   "cell_type": "code",
   "execution_count": null,
   "source": "",
   "id": "a1d806042e531ea4",
   "outputs": []
  },
  {
   "metadata": {},
   "cell_type": "code",
   "execution_count": null,
   "source": "",
   "id": "d063ca2132341f2e",
   "outputs": []
  },
  {
   "metadata": {},
   "cell_type": "code",
   "execution_count": null,
   "source": "",
   "id": "8bfa21d0ca684cd7",
   "outputs": []
  },
  {
   "metadata": {},
   "cell_type": "code",
   "execution_count": null,
   "source": "",
   "id": "9058fc826b322f60",
   "outputs": []
  },
  {
   "metadata": {},
   "cell_type": "code",
   "execution_count": null,
   "source": "",
   "id": "7ebd39c1e7eb1daa",
   "outputs": []
  },
  {
   "metadata": {},
   "cell_type": "code",
   "execution_count": null,
   "source": "",
   "id": "fbde20e431cb2337",
   "outputs": []
  },
  {
   "metadata": {},
   "cell_type": "code",
   "execution_count": null,
   "source": "",
   "id": "1dbfa14cce7858b8",
   "outputs": []
  },
  {
   "metadata": {},
   "cell_type": "code",
   "execution_count": null,
   "source": "",
   "id": "8de9e9a28e2826a",
   "outputs": []
  },
  {
   "metadata": {},
   "cell_type": "code",
   "execution_count": null,
   "source": "",
   "id": "f3c3643c5da78d99",
   "outputs": []
  }
 ],
 "metadata": {
  "kernelspec": {
   "display_name": "Python 3",
   "language": "python",
   "name": "python3"
  },
  "language_info": {
   "codemirror_mode": {
    "name": "ipython",
    "version": 2
   },
   "file_extension": ".py",
   "mimetype": "text/x-python",
   "name": "python",
   "nbconvert_exporter": "python",
   "pygments_lexer": "ipython2",
   "version": "2.7.6"
  }
 },
 "nbformat": 4,
 "nbformat_minor": 5
}
