{
 "cells": [
  {
   "cell_type": "code",
   "id": "initial_id",
   "metadata": {
    "collapsed": true,
    "ExecuteTime": {
     "end_time": "2024-05-15T03:38:44.285399Z",
     "start_time": "2024-05-15T03:38:44.270318Z"
    }
   },
   "source": [
    "!pip install transformers -U\n",
    "import pypdf\n",
    "import os\n",
    "import llama_index\n",
    "import gradio\n",
    "import einops\n",
    "import accelerate\n",
    "import llama-index-llms-huggingface\n",
    "import llama-index-embeddings-fastembed\n",
    "import fastembed\n"
   ],
   "outputs": [
    {
     "ename": "SyntaxError",
     "evalue": "invalid syntax (3380979828.py, line 8)",
     "output_type": "error",
     "traceback": [
      "\u001B[1;36m  Cell \u001B[1;32mIn[1], line 8\u001B[1;36m\u001B[0m\n\u001B[1;33m    import llama-index-llms-huggingface\u001B[0m\n\u001B[1;37m                ^\u001B[0m\n\u001B[1;31mSyntaxError\u001B[0m\u001B[1;31m:\u001B[0m invalid syntax\n"
     ]
    }
   ],
   "execution_count": 1
  },
  {
   "metadata": {},
   "cell_type": "code",
   "source": "",
   "id": "4f5e80c8ccb81f96",
   "outputs": [],
   "execution_count": null
  },
  {
   "metadata": {},
   "cell_type": "code",
   "source": "",
   "id": "bd5040808e715423",
   "outputs": [],
   "execution_count": null
  },
  {
   "metadata": {},
   "cell_type": "code",
   "source": "",
   "id": "53b021cd716091ae",
   "outputs": [],
   "execution_count": null
  },
  {
   "metadata": {},
   "cell_type": "code",
   "source": "",
   "id": "bfc6dae8ca5f38ee",
   "outputs": [],
   "execution_count": null
  },
  {
   "metadata": {},
   "cell_type": "code",
   "source": "",
   "id": "530d4f896f6f68f8",
   "outputs": [],
   "execution_count": null
  },
  {
   "metadata": {},
   "cell_type": "code",
   "source": "",
   "id": "6a093fd448c14c45",
   "outputs": [],
   "execution_count": null
  },
  {
   "metadata": {},
   "cell_type": "code",
   "source": "",
   "id": "24a695212780f816",
   "outputs": [],
   "execution_count": null
  },
  {
   "metadata": {},
   "cell_type": "code",
   "source": "",
   "id": "f53fe84c9d5d4bcd",
   "outputs": [],
   "execution_count": null
  },
  {
   "metadata": {},
   "cell_type": "code",
   "source": "",
   "id": "d30be9a72b16aa07",
   "outputs": [],
   "execution_count": 1
  },
  {
   "metadata": {},
   "cell_type": "code",
   "source": "",
   "id": "cea172f5a9cdde89",
   "outputs": [],
   "execution_count": 1
  },
  {
   "metadata": {},
   "cell_type": "code",
   "source": "",
   "id": "558c8cf18a528ae6",
   "outputs": [],
   "execution_count": 1
  },
  {
   "metadata": {
    "ExecuteTime": {
     "end_time": "2024-05-15T03:38:44.360046Z",
     "start_time": "2024-05-15T03:38:44.356917Z"
    }
   },
   "cell_type": "code",
   "source": "",
   "id": "66d559f2c44f14e1",
   "outputs": [],
   "execution_count": 1
  },
  {
   "metadata": {
    "ExecuteTime": {
     "end_time": "2024-05-15T03:38:44.411858Z",
     "start_time": "2024-05-15T03:38:44.409004Z"
    }
   },
   "cell_type": "code",
   "source": "",
   "id": "85964cbf991e0f10",
   "outputs": [],
   "execution_count": 1
  },
  {
   "metadata": {
    "ExecuteTime": {
     "end_time": "2024-05-15T03:38:44.424297Z",
     "start_time": "2024-05-15T03:38:44.421828Z"
    }
   },
   "cell_type": "code",
   "source": "",
   "id": "8f70e9a618ad551b",
   "outputs": [],
   "execution_count": 1
  },
  {
   "metadata": {
    "ExecuteTime": {
     "end_time": "2024-05-15T03:38:44.432400Z",
     "start_time": "2024-05-15T03:38:44.428466Z"
    }
   },
   "cell_type": "code",
   "source": "",
   "id": "5607dca5ea824d5e",
   "outputs": [],
   "execution_count": 1
  },
  {
   "metadata": {
    "ExecuteTime": {
     "end_time": "2024-05-15T03:38:44.441372Z",
     "start_time": "2024-05-15T03:38:44.438379Z"
    }
   },
   "cell_type": "code",
   "source": "",
   "id": "775737e70da62793",
   "outputs": [],
   "execution_count": 1
  },
  {
   "metadata": {
    "ExecuteTime": {
     "end_time": "2024-05-15T03:38:44.481705Z",
     "start_time": "2024-05-15T03:38:44.472080Z"
    }
   },
   "cell_type": "code",
   "source": "",
   "id": "8d095bde466213e9",
   "outputs": [],
   "execution_count": 1
  },
  {
   "metadata": {
    "ExecuteTime": {
     "end_time": "2024-05-15T03:38:44.505423Z",
     "start_time": "2024-05-15T03:38:44.495180Z"
    }
   },
   "cell_type": "code",
   "source": "",
   "id": "ce659127bfe4f235",
   "outputs": [],
   "execution_count": 1
  }
 ],
 "metadata": {
  "kernelspec": {
   "display_name": "Python 3",
   "language": "python",
   "name": "python3"
  },
  "language_info": {
   "codemirror_mode": {
    "name": "ipython",
    "version": 2
   },
   "file_extension": ".py",
   "mimetype": "text/x-python",
   "name": "python",
   "nbconvert_exporter": "python",
   "pygments_lexer": "ipython2",
   "version": "2.7.6"
  }
 },
 "nbformat": 4,
 "nbformat_minor": 5
}
